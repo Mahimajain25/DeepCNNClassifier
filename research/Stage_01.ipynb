{
  "cells": [
    {
      "cell_type": "code",
      "execution_count": 1,
      "metadata": {
        "id": "lRMyt9xdGqWG"
      },
      "outputs": [],
      "source": [
        "##### This file is create in Google colab Earlier\n",
        "## config entity "
      ]
    },
    {
      "cell_type": "code",
      "execution_count": 2,
      "metadata": {
        "id": "NEOBqff8B1WG"
      },
      "outputs": [],
      "source": [
        "from collections import namedtuple"
      ]
    },
    {
      "cell_type": "code",
      "execution_count": 4,
      "metadata": {
        "id": "iychW25LCAqo"
      },
      "outputs": [],
      "source": [
        "DataIngestion = namedtuple(\"DataIngestion\",\n",
        "                           ['root_dir',\n",
        "                            'source_URL',\n",
        "                            'local_data_file',\n",
        "                            'unzip_dir'])"
      ]
    },
    {
      "cell_type": "code",
      "execution_count": 5,
      "metadata": {
        "id": "BguFeMuWG2HT"
      },
      "outputs": [],
      "source": [
        "# Another way to define entity"
      ]
    },
    {
      "cell_type": "code",
      "execution_count": 6,
      "metadata": {
        "id": "rSQ6HaAAG9zV"
      },
      "outputs": [],
      "source": [
        "from dataclasses import dataclass\n",
        "from pathlib import Path\n",
        "@dataclass(frozen = True) ## working like named tuple\n",
        "class DataIngestionConfig :\n",
        "  # class variables\n",
        "  root_dir : Path\n",
        "  source_url : str\n",
        "  local_data_file : Path\n",
        "  unzip_dir : Path"
      ]
    },
    {
      "cell_type": "code",
      "execution_count": 3,
      "metadata": {
        "id": "C-LUffWwi9CG"
      },
      "outputs": [],
      "source": [
        "# constant path \n",
        "CONFIG_FILE_PATH = (\"configs/config.yaml\")\n",
        "PARAMS_FILE_PATH = (\"Params.yaml\")"
      ]
    },
    {
      "cell_type": "code",
      "execution_count": 5,
      "metadata": {
        "colab": {
          "base_uri": "https://localhost:8080/"
        },
        "id": "PFA4w3rokLp0",
        "outputId": "621d32b9-d71e-4181-bfb2-850241448b44"
      },
      "outputs": [
        {
          "name": "stdout",
          "output_type": "stream",
          "text": [
            "Looking in indexes: https://pypi.org/simple, https://us-python.pkg.dev/colab-wheels/public/simple/\n",
            "Collecting python-box\n",
            "  Downloading python_box-6.0.2-cp37-cp37m-manylinux_2_17_x86_64.manylinux2014_x86_64.whl (3.0 MB)\n",
            "\u001b[K     |████████████████████████████████| 3.0 MB 5.2 MB/s \n",
            "\u001b[?25hInstalling collected packages: python-box\n",
            "Successfully installed python-box-6.0.2\n"
          ]
        }
      ],
      "source": [
        "pip install python-box\n"
      ]
    },
    {
      "cell_type": "code",
      "execution_count": 6,
      "metadata": {
        "colab": {
          "base_uri": "https://localhost:8080/"
        },
        "id": "zpStD5bckm7X",
        "outputId": "09c38084-5ca2-4e28-89da-8cc4b3d8550a"
      },
      "outputs": [
        {
          "name": "stdout",
          "output_type": "stream",
          "text": [
            "Looking in indexes: https://pypi.org/simple, https://us-python.pkg.dev/colab-wheels/public/simple/\n",
            "Collecting ensure\n",
            "  Downloading ensure-1.0.2-py2.py3-none-any.whl (15 kB)\n",
            "Requirement already satisfied: six>=1.11.0 in /usr/local/lib/python3.7/dist-packages (from ensure) (1.15.0)\n",
            "Installing collected packages: ensure\n",
            "Successfully installed ensure-1.0.2\n"
          ]
        }
      ],
      "source": [
        "pip install ensure"
      ]
    },
    {
      "cell_type": "code",
      "execution_count": 9,
      "metadata": {
        "id": "y5b9D4qUlKlx"
      },
      "outputs": [],
      "source": [
        "import yaml\n",
        "import os"
      ]
    },
    {
      "cell_type": "code",
      "execution_count": 14,
      "metadata": {
        "id": "ZsBEEo9to4Ep"
      },
      "outputs": [],
      "source": [
        "### commmon utils"
      ]
    },
    {
      "cell_type": "code",
      "execution_count": 8,
      "metadata": {
        "id": "Irm5O4C7ja55"
      },
      "outputs": [],
      "source": [
        "## Read Yaml\n",
        "from pathlib import Path\n",
        "from box import ConfigBox\n",
        "from ensure import ensure_annotations\n",
        "@ensure_annotations\n",
        "def read_yaml(path : Path) -> ConfigBox:\n",
        "  try:\n",
        "    with open(path) as yaml_file:\n",
        "      content = yaml.safe_load(yaml_file)\n",
        "      return ConfigBox(content)\n",
        "  except Exception as e:\n",
        "    raise e"
      ]
    },
    {
      "cell_type": "code",
      "execution_count": 10,
      "metadata": {
        "id": "WRQ0oIkaklzQ"
      },
      "outputs": [],
      "source": [
        "### create dir \n",
        "@ensure_annotations\n",
        "def create_dir(dir_path: list):\n",
        "  for path in dir_path:\n",
        "    os.makedirs(path, exist_ok= True)\n"
      ]
    },
    {
      "cell_type": "code",
      "execution_count": 13,
      "metadata": {
        "id": "BEoycOOcoyvd"
      },
      "outputs": [],
      "source": [
        "### Configurtaions"
      ]
    },
    {
      "cell_type": "code",
      "execution_count": 11,
      "metadata": {
        "id": "fjgY1740Iwiv"
      },
      "outputs": [],
      "source": [
        "class Configurtaion:\n",
        "  \n",
        "  def __init__(self, config_file_path =  CONFIG_FILE_PATH, params_file_path = PARAMS_FILE_PATH):\n",
        "    self.config = read_yaml(config_file_path)\n",
        "    self.params = read_yaml(params_file_path)\n",
        "    #create_dir() ## create dir for root artifact\n",
        "\n",
        "  def get_data_ingestion_config(self) -> DataIngestion :\n",
        "      config = self.config.data_ingestion\n",
        "      create_dir([config.root_dir])\n",
        "      data_ingestion_config = DataIngestion(\n",
        "            root_dir=config.root_dir,\n",
        "            source_URL=config.source_URL,\n",
        "            local_data_file=config.local_data_file,\n",
        "            unzip_dir=config.unzip_dir \n",
        "        )\n",
        "      return data_ingestion_config"
      ]
    },
    {
      "cell_type": "code",
      "execution_count": 18,
      "metadata": {
        "id": "t7NUV4j8oZvX"
      },
      "outputs": [],
      "source": [
        "import urllib.request as request\n",
        "from zipfile import ZipFile\n"
      ]
    },
    {
      "cell_type": "code",
      "execution_count": 19,
      "metadata": {
        "id": "g7UVVMt-ox8o"
      },
      "outputs": [],
      "source": [
        "class DataIngestion:\n",
        "\n",
        "  def __init__(self, config : DataIngestion): # Entity\n",
        "    self.config =  config \n",
        "\n",
        "  def download_file(self):\n",
        "    if not os.path.exists(self.config.local_data_file):\n",
        "      filename, header =  request.urlretrieve(\n",
        "           url = self.config.source_URL,\n",
        "           filename = self.config.local_data_file\n",
        "      )\n",
        "  def _get_updated_list_of_files(self, list_of_files):\n",
        "        return [f for f in list_of_files if f.endswith(\".jpg\") and (\"Cat\" in f or \"Dog\" in f)]\n",
        "\n",
        "  def _preprocess(self, zf: ZipFile, f: str, working_dir: str):\n",
        "        target_filepath = os.path.join(working_dir, f)\n",
        "        if not os.path.exists(target_filepath):\n",
        "            zf.extract(f, working_dir)\n",
        "  def zip_and_clean(self):\n",
        "    with ZipFile(file=self.config.local_data_file, mode=\"r\") as zf:\n",
        "            list_of_files = zf.namelist()\n",
        "            updated_list_of_files = self._get_updated_list_of_files(list_of_files)\n",
        "            for f in updated_list_of_files:\n",
        "                self._preprocess(zf, f, self.config.unzip_dir)"
      ]
    },
    {
      "cell_type": "code",
      "execution_count": null,
      "metadata": {
        "id": "Pi2GWG0XrSya"
      },
      "outputs": [],
      "source": [
        "try:\n",
        "    config = Configurtaion() ## Error h\n",
        "    data_ingestion_config = config.get_data_ingestion_config()\n",
        "    data_ingestion = DataIngestion(config=data_ingestion_config)\n",
        "    data_ingestion.download_file()\n",
        "    data_ingestion.unzip_and_clean()\n",
        "except Exception as e:\n",
        "    raise e\n"
      ]
    },
    {
      "cell_type": "code",
      "execution_count": 1,
      "metadata": {
        "id": "Igg6SEyQrgbp"
      },
      "outputs": [],
      "source": [
        "  yaml_files = [\n",
        "        \"D:\\PyCharm\\DeepCNNClassifier\\tests\\data\\demo.yaml\",\n",
        "        \"D:\\PyCharm\\DeepCNNClassifier\\tests\\data\\empty.yaml\"\n",
        "    ]"
      ]
    },
    {
      "cell_type": "code",
      "execution_count": 2,
      "metadata": {
        "colab": {
          "base_uri": "https://localhost:8080/",
          "height": 35
        },
        "id": "ZwsmgZ--YrJ0",
        "outputId": "d301a051-29b0-4ddf-82e5-6fd504278397"
      },
      "outputs": [
        {
          "data": {
            "application/vnd.google.colaboratory.intrinsic+json": {
              "type": "string"
            },
            "text/plain": [
              "'D:\\\\PyCharm\\\\DeepCNNClassifier\\tests\\\\data\\\\demo.yaml'"
            ]
          },
          "execution_count": 2,
          "metadata": {},
          "output_type": "execute_result"
        }
      ],
      "source": [
        "yaml_files[0]"
      ]
    },
    {
      "cell_type": "code",
      "execution_count": 3,
      "metadata": {
        "colab": {
          "base_uri": "https://localhost:8080/",
          "height": 35
        },
        "id": "E9dr15X2Ytiz",
        "outputId": "8287c1a2-c33c-4c9a-a75b-8f431a425d26"
      },
      "outputs": [
        {
          "data": {
            "application/vnd.google.colaboratory.intrinsic+json": {
              "type": "string"
            },
            "text/plain": [
              "'D:\\\\PyCharm\\\\DeepCNNClassifier\\tests\\\\data\\\\empty.yaml'"
            ]
          },
          "execution_count": 3,
          "metadata": {},
          "output_type": "execute_result"
        }
      ],
      "source": [
        "yaml_files[-1]"
      ]
    },
    {
      "cell_type": "code",
      "execution_count": 4,
      "metadata": {
        "colab": {
          "base_uri": "https://localhost:8080/",
          "height": 35
        },
        "id": "G00saFbUYv_Z",
        "outputId": "7510af65-9e59-4d3d-de27-ad196eba1d0a"
      },
      "outputs": [
        {
          "data": {
            "application/vnd.google.colaboratory.intrinsic+json": {
              "type": "string"
            },
            "text/plain": [
              "'D:\\\\PyCharm\\\\DeepCNNClassifier\\tests\\\\data\\\\empty.yaml'"
            ]
          },
          "execution_count": 4,
          "metadata": {},
          "output_type": "execute_result"
        }
      ],
      "source": [
        "yaml_files[1]"
      ]
    },
    {
      "cell_type": "code",
      "execution_count": null,
      "metadata": {
        "id": "vV-mlgGgY0ja"
      },
      "outputs": [],
      "source": []
    }
  ],
  "metadata": {
    "colab": {
      "collapsed_sections": [],
      "provenance": []
    },
    "kernelspec": {
      "display_name": "Python 3.9.7 64-bit",
      "language": "python",
      "name": "python3"
    },
    "language_info": {
      "codemirror_mode": {
        "name": "ipython",
        "version": 3
      },
      "file_extension": ".py",
      "mimetype": "text/x-python",
      "name": "python",
      "nbconvert_exporter": "python",
      "pygments_lexer": "ipython3",
      "version": "3.9.7"
    },
    "vscode": {
      "interpreter": {
        "hash": "b70719c276c095c1d69b27c258cc80cd29270d68b376ded16c29cef6efab505e"
      }
    }
  },
  "nbformat": 4,
  "nbformat_minor": 0
}
